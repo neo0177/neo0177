{
 "cells": [
  {
   "cell_type": "code",
   "execution_count": 4,
   "metadata": {},
   "outputs": [
    {
     "name": "stdout",
     "output_type": "stream",
     "text": [
      "Welcome to the tip calculator.\n",
      "Total bill: $287.5\n",
      "Total tip: $37.5\n",
      "Each person should pay: $143.75\n"
     ]
    }
   ],
   "source": [
    "# Tip calculator\n",
    "print(\"Welcome to the tip calculator.\")\n",
    "bill = float(input(\"What was the total bill? $\"))\n",
    "tip = int(input(\"What percentage tip would you like to give? 10, 12, or 15 in % ? \"))\n",
    "people = int(input(\"How many people to split the bill? \"))\n",
    "tip_as_percent = tip / 100\n",
    "total_tip_amount = bill * tip_as_percent\n",
    "total_bill = bill + total_tip_amount\n",
    "bill_per_person = total_bill / people\n",
    "final_amount = round(bill_per_person, 2)\n",
    "print(f\"Total bill: ${total_bill}\")\n",
    "print(f\"Total tip: ${total_tip_amount}\")\n",
    "print(f\"Each person should pay: ${final_amount}\")\n",
    "\n"
   ]
  }
 ],
 "metadata": {
  "kernelspec": {
   "display_name": "Python 3",
   "language": "python",
   "name": "python3"
  },
  "language_info": {
   "codemirror_mode": {
    "name": "ipython",
    "version": 3
   },
   "file_extension": ".py",
   "mimetype": "text/x-python",
   "name": "python",
   "nbconvert_exporter": "python",
   "pygments_lexer": "ipython3",
   "version": "3.11.4"
  },
  "orig_nbformat": 4
 },
 "nbformat": 4,
 "nbformat_minor": 2
}
