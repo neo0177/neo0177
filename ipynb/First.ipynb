{
 "cells": [
  {
   "cell_type": "code",
   "execution_count": 55,
   "metadata": {},
   "outputs": [
    {
     "name": "stdout",
     "output_type": "stream",
     "text": [
      "2\n",
      "4\n",
      "6\n",
      "8\n",
      "10\n",
      "12\n",
      "14\n",
      "16\n",
      "18\n",
      "20\n"
     ]
    }
   ],
   "source": [
    "num = 1\n",
    "while num <= 20 :\n",
    "    if num % 2 == 0 :\n",
    "        print (num) \n",
    "    num += 1"
   ]
  },
  {
   "cell_type": "code",
   "execution_count": 1,
   "metadata": {},
   "outputs": [
    {
     "ename": "IndentationError",
     "evalue": "expected an indented block after 'while' statement on line 2 (2613990495.py, line 3)",
     "output_type": "error",
     "traceback": [
      "\u001b[0;36m  Cell \u001b[0;32mIn[1], line 3\u001b[0;36m\u001b[0m\n\u001b[0;31m    print(num)\u001b[0m\n\u001b[0m    ^\u001b[0m\n\u001b[0;31mIndentationError\u001b[0m\u001b[0;31m:\u001b[0m expected an indented block after 'while' statement on line 2\n"
     ]
    }
   ],
   "source": [
    "num = 2\n",
    "while num <= 20 :\n",
    "    print(num)\n",
    "    num += 2\n",
    "    "
   ]
  },
  {
   "cell_type": "code",
   "execution_count": 57,
   "metadata": {},
   "outputs": [
    {
     "name": "stdout",
     "output_type": "stream",
     "text": [
      "The number is 1 and the Square root is, squ_root is 1\n",
      "The number is 2 and the Square root is, squ_root is 4\n",
      "The number is 3 and the Square root is, squ_root is 9\n",
      "The number is 4 and the Square root is, squ_root is 16\n",
      "The number is 5 and the Square root is, squ_root is 25\n",
      "The number is 6 and the Square root is, squ_root is 36\n",
      "The number is 7 and the Square root is, squ_root is 49\n",
      "The number is 8 and the Square root is, squ_root is 64\n",
      "The number is 9 and the Square root is, squ_root is 81\n",
      "The number is 10 and the Square root is, squ_root is 100\n"
     ]
    }
   ],
   "source": [
    "num = 1\n",
    "while num <= 10 :\n",
    "    squ_root = num ** 2\n",
    "    print(f\"The number is {num} and the Square root is, squ_root is {squ_root}\" )\n",
    "    num = num + 1\n"
   ]
  },
  {
   "cell_type": "code",
   "execution_count": 58,
   "metadata": {},
   "outputs": [
    {
     "name": "stdout",
     "output_type": "stream",
     "text": [
      "256\n"
     ]
    }
   ],
   "source": [
    "sq_root = 4 ** 4\n",
    "print(sq_root)"
   ]
  },
  {
   "cell_type": "code",
   "execution_count": 3,
   "metadata": {},
   "outputs": [
    {
     "name": "stdout",
     "output_type": "stream",
     "text": [
      "Numbers \t\t Sq_RT\n",
      "1 \t\t\t 1\n",
      "2 \t\t\t 4\n",
      "3 \t\t\t 9\n",
      "4 \t\t\t 16\n",
      "5 \t\t\t 25\n",
      "6 \t\t\t 36\n",
      "7 \t\t\t 49\n",
      "8 \t\t\t 64\n",
      "9 \t\t\t 81\n",
      "10 \t\t\t 100\n"
     ]
    }
   ],
   "source": [
    "num = 1\n",
    "print(\"Numbers \\t\\t Sq_RT\")\n",
    "while num <= 10 :\n",
    "    # sqr_root = num ** 2\n",
    "    print(num, \"\\t\\t\\t\", num ** 2)\n",
    "    num += 1\n",
    "\n",
    "    \n"
   ]
  },
  {
   "cell_type": "code",
   "execution_count": 79,
   "metadata": {},
   "outputs": [
    {
     "name": "stdout",
     "output_type": "stream",
     "text": [
      "10\n",
      "20\n",
      "30\n",
      "40\n",
      "50\n",
      "60\n",
      "70\n",
      "80\n",
      "90\n",
      "100\n"
     ]
    }
   ],
   "source": [
    "for i in range(1,11):\n",
    "    series = 10 * i\n",
    "    print(series)\n",
    "    i += 1"
   ]
  },
  {
   "cell_type": "code",
   "execution_count": 1,
   "metadata": {},
   "outputs": [
    {
     "name": "stdout",
     "output_type": "stream",
     "text": [
      "*\n",
      "**\n",
      "***\n",
      "****\n",
      "*****\n",
      "******\n",
      "*******\n",
      "********\n",
      "*********\n",
      "**********\n",
      "Here is the right angle\n"
     ]
    }
   ],
   "source": [
    "i = 1\n",
    "while i < 11 :\n",
    "    print(i * \"*\")\n",
    "    i += 1\n",
    "\n",
    "\n",
    "print(\"Here is the right angle\")\n"
   ]
  }
 ],
 "metadata": {
  "kernelspec": {
   "display_name": "Python 3",
   "language": "python",
   "name": "python3"
  },
  "language_info": {
   "codemirror_mode": {
    "name": "ipython",
    "version": 3
   },
   "file_extension": ".py",
   "mimetype": "text/x-python",
   "name": "python",
   "nbconvert_exporter": "python",
   "pygments_lexer": "ipython3",
   "version": "3.11.4"
  },
  "orig_nbformat": 4
 },
 "nbformat": 4,
 "nbformat_minor": 2
}
