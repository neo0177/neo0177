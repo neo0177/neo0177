{
 "cells": [
  {
   "cell_type": "code",
   "execution_count": null,
   "metadata": {},
   "outputs": [],
   "source": [
    "# Name: Roller_coaster.ipynb\n",
    "print(\"Welcome to the rollercoaster!\")\n",
    "height = int(input(\"What is your height in cm? \"))\n",
    "if height >= 120 :\n",
    "  print(\"You can take the ride\")\n",
    "  age = int(input(\"What is your age ? \"))\n",
    "  if age <= 12 :\n",
    "    print(\"You pay $5\")\n",
    "  elif age > 12 and age < 18 :\n",
    "    print(\"You pay $7\")\n",
    "  elif age >= 18:\n",
    "    print(\"You pay $12\")\n",
    "else:\n",
    "  print(\"You need to be more taller to take the ride\")"
   ]
  }
 ],
 "metadata": {
  "kernelspec": {
   "display_name": "Python 3",
   "language": "python",
   "name": "python3"
  },
  "language_info": {
   "codemirror_mode": {
    "name": "ipython",
    "version": 3
   },
   "file_extension": ".py",
   "mimetype": "text/x-python",
   "name": "python",
   "nbconvert_exporter": "python",
   "pygments_lexer": "ipython3",
   "version": "3.11.4"
  },
  "orig_nbformat": 4
 },
 "nbformat": 4,
 "nbformat_minor": 2
}
