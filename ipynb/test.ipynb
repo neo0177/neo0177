{
 "cells": [
  {
   "cell_type": "code",
   "execution_count": 1,
   "metadata": {},
   "outputs": [],
   "source": [
    "# text = \"Hello, how are you?\"\n",
    "# words = text.split()  # Splits by whitespace by default\n",
    "# print(words)  "
   ]
  },
  {
   "cell_type": "code",
   "execution_count": 6,
   "metadata": {},
   "outputs": [
    {
     "name": "stdout",
     "output_type": "stream",
     "text": [
      "['Hello, how are yo', '?']\n"
     ]
    }
   ],
   "source": [
    "text = \"Hello, how are you?\"\n",
    "print(text.split('u'))  # Splits by 'o'"
   ]
  },
  {
   "cell_type": "code",
   "execution_count": 7,
   "metadata": {},
   "outputs": [
    {
     "name": "stdout",
     "output_type": "stream",
     "text": [
      "The actual string: This is Python\n",
      "Converted to list of character list :\n",
      " [['T', 'h', 'i', 's'], ['i', 's'], ['P', 'y', 't', 'h', 'o', 'n']]\n"
     ]
    }
   ],
   "source": [
    "#Given string\n",
    "string1=\"This is Python\"\n",
    " \n",
    "print(\"The actual string:\",string1)\n",
    " \n",
    "#converting string1 into a list of strings\n",
    "string1=string1.split()\n",
    " \n",
    "#applying list method to the individual elements of the list string1\n",
    "list1=list(map(list,string1))\n",
    " \n",
    "#printing the resultant list of lists\n",
    "print(\"Converted to list of character list :\\n\",list1)\n"
   ]
  }
 ],
 "metadata": {
  "kernelspec": {
   "display_name": "Python 3",
   "language": "python",
   "name": "python3"
  },
  "language_info": {
   "codemirror_mode": {
    "name": "ipython",
    "version": 3
   },
   "file_extension": ".py",
   "mimetype": "text/x-python",
   "name": "python",
   "nbconvert_exporter": "python",
   "pygments_lexer": "ipython3",
   "version": "3.11.4"
  },
  "orig_nbformat": 4
 },
 "nbformat": 4,
 "nbformat_minor": 2
}
