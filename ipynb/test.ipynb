{
 "cells": [
  {
   "cell_type": "code",
   "execution_count": null,
   "metadata": {},
   "outputs": [],
   "source": [
    "# text = \"Hello, how are you?\"\n",
    "# words = text.split()  # Splits by whitespace by default\n",
    "# print(words)  "
   ]
  },
  {
   "cell_type": "code",
   "execution_count": null,
   "metadata": {},
   "outputs": [],
   "source": []
  },
  {
   "cell_type": "code",
   "execution_count": null,
   "metadata": {},
   "outputs": [],
   "source": []
  },
  {
   "cell_type": "code",
   "execution_count": null,
   "metadata": {},
   "outputs": [],
   "source": [
    "# text = \"Hello, how are you?\"\n",
    "# words = text.split()  # Splits by whitespace by default\n",
    "# print(words)  "
   ]
  },
  {
   "cell_type": "code",
   "execution_count": null,
   "metadata": {},
   "outputs": [],
   "source": []
  },
  {
   "cell_type": "code",
   "execution_count": null,
   "metadata": {},
   "outputs": [],
   "source": []
  },
  {
   "cell_type": "code",
   "execution_count": null,
   "metadata": {},
   "outputs": [],
   "source": [
    "# text = \"Hello, how are you?\"\n",
    "# words = text.split()  # Splits by whitespace by default\n",
    "# print(words)  "
   ]
  },
  {
   "cell_type": "code",
   "execution_count": null,
   "metadata": {},
   "outputs": [],
   "source": []
  },
  {
   "cell_type": "code",
   "execution_count": null,
   "metadata": {},
   "outputs": [],
   "source": []
  },
  {
   "cell_type": "code",
   "execution_count": null,
   "metadata": {},
   "outputs": [],
   "source": [
    "# text = \"Hello, how are you?\"\n",
    "# words = text.split()  # Splits by whitespace by default\n",
    "# print(words)  "
   ]
  },
  {
   "cell_type": "code",
   "execution_count": null,
   "metadata": {},
   "outputs": [],
   "source": []
  },
  {
   "cell_type": "code",
   "execution_count": null,
   "metadata": {},
   "outputs": [],
   "source": [
    "# text = \"Hello, how are you?\"\n",
    "# words = text.split()  # Splits by whitespace by default\n",
    "# print(words)  "
   ]
  },
  {
   "cell_type": "code",
   "execution_count": null,
   "metadata": {},
   "outputs": [],
   "source": []
  },
  {
   "cell_type": "code",
   "execution_count": null,
   "metadata": {},
   "outputs": [],
   "source": []
  },
  {
   "cell_type": "code",
   "execution_count": null,
   "metadata": {},
   "outputs": [],
   "source": [
    "# text = \"Hello, how are you?\"\n",
    "# words = text.split()  # Splits by whitespace by default\n",
    "# print(words)  "
   ]
  },
  {
   "cell_type": "code",
   "execution_count": null,
   "metadata": {},
   "outputs": [],
   "source": []
  },
  {
   "cell_type": "code",
   "execution_count": null,
   "metadata": {},
   "outputs": [],
   "source": []
  },
  {
   "cell_type": "code",
   "execution_count": null,
   "metadata": {},
   "outputs": [],
   "source": [
    "# text = \"Hello, how are you?\"\n",
    "# print(text.split('u'))  # Splits by 'o'"
   ]
  },
  {
   "cell_type": "code",
   "execution_count": null,
   "metadata": {},
   "outputs": [],
   "source": [
    "#Given string\n",
    "# string1=\"This is Python\"\n",
    " \n",
    "# print(\"The actual string:\",string1)\n",
    " \n",
    "# #converting string1 into a list of strings\n",
    "# string1=string1.split()\n",
    " \n",
    "# #applying list method to the individual elements of the list string1\n",
    "# list1=list(map(list,string1))\n",
    " \n",
    "#printing the resultant list of lists\n",
    "# print(\"Converted to list of character list :\\n\",list1)\n"
   ]
  },
  {
   "cell_type": "code",
   "execution_count": null,
   "metadata": {},
   "outputs": [],
   "source": [
    "# string1=\"This is Python\"\n",
    "# string_split = len(string1)\n",
    "# print(string_split)"
   ]
  },
  {
   "cell_type": "code",
   "execution_count": null,
   "metadata": {},
   "outputs": [],
   "source": [
    "# print(string1.split('i'))\n"
   ]
  },
  {
   "cell_type": "code",
   "execution_count": null,
   "metadata": {},
   "outputs": [],
   "source": [
    "\n",
    "# import random\n",
    "# string1=\"This is Python\"\n",
    "# num_alpha = len(string1)\n",
    "# string_split = string1.split()\n",
    "# print(string_split)\n",
    "\n",
    "\n",
    "\n",
    "# random_string = random.randint(0, string1 -1) \n",
    "# print(random_string)\n",
    "\n",
    "# person_name = string1[random_string]"
   ]
  },
  {
   "cell_type": "code",
   "execution_count": null,
   "metadata": {},
   "outputs": [],
   "source": [
    "# # Import the random module here\n",
    "# import random\n",
    "# # Split string method\n",
    "# names_string = input(\"Give me everybody's names, separated by a comma. \")\n",
    "# names = names_string.split(\", \")\n",
    "# # 🚨 Don't change the code above 👆\n",
    "\n",
    "# #Write your code below this line 👇\n",
    "# #Get the total number of items in list.\n",
    "# num_items = len(names)\n",
    "# #Generate random numbers between 0 and the last index.\n",
    "# random_choice = random.randint(0, num_items - 1)\n",
    "# #Pick out random person from list of names using the random numbers.\n",
    "# person_who_will_pay = names[random_choice]\n",
    "\n",
    "# print(person_who_will_pay + \" is going to buy the meal today!\")\n"
   ]
  },
  {
   "cell_type": "code",
   "execution_count": null,
   "metadata": {},
   "outputs": [],
   "source": [
    "fruits = [\"Strawberries\", \"Nectarines\", \"Apples\", \"Grapes\", \"Peaches\", \"Cherries\", \"Pears\"]\n",
    "vegetables = [\"Spinach\", \"Kale\", \"Tomatoes\", \"Celery\", \"Potatoes\"]\n",
    " \n",
    "dirty_dozen = [fruits, vegetables]\n",
    " \n",
    "print(dirty_dozen)\n",
    "\n",
    "# print(dirty_dozen)\n",
    "\n",
    "print(dirty_dozen[0])\n",
    "print(dirty_dozen[1])\n",
    "\n",
    "# # #To see what happens at the next stage print out:\n",
    "\n",
    "print(dirty_dozen[1][2])\n",
    "print(dirty_dozen[1][3])\n",
    "\n",
    "#I hope this helps clarify how nested lists work. 🙂"
   ]
  }
 ],
 "metadata": {
  "kernelspec": {
   "display_name": "Python 3",
   "language": "python",
   "name": "python3"
  },
  "language_info": {
   "codemirror_mode": {
    "name": "ipython",
    "version": 3
   },
   "file_extension": ".py",
   "mimetype": "text/x-python",
   "name": "python",
   "nbconvert_exporter": "python",
   "pygments_lexer": "ipython3",
   "version": "3.11.4"
  },
  "orig_nbformat": 4
 },
 "nbformat": 4,
 "nbformat_minor": 2
}
