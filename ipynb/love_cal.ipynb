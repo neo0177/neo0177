{
 "cells": [
  {
   "cell_type": "code",
   "execution_count": null,
   "metadata": {},
   "outputs": [],
   "source": [
    "name1  = print(input(\"What is your name? \\n\").lower())\n",
    "name2 = print(input(\"What is their name? \\n\").lower())\n",
    "\n",
    "t = name1.count('t') + name2.count('t') #count the number of 't' in name1 and name2\n",
    "r = name1.count('r') + name2.count('r') #count the number of 'r' in name1 and name2\n",
    "u = name1.count('u') + name2.count('u') #count the number of 'u' in name1 and name2\n",
    "e = name1.count('e') + name2.count('e') #count the number of 'e' in name1 and name2\n",
    "\n",
    "true = t + r + u + e #add the number of 't', 'r', 'u', 'e' in name1 and name2\n",
    "\n",
    "l = name1.count('l') + name2.count('l') #count the number of 'l' in name1 and name2\n",
    "o = name1.count('o') + name2.count('o') #count the number of 'o' in name1 and name2\n",
    "v = name1.count('v') + name2.count('v') #count the number of 'v' in name1 and name2\n",
    "e = name1.count('e') + name2.count('e') #count the number of 'e' in name1 and name2\n",
    "\n",
    "love = l + o + v + e #add the number of 'l', 'o', 'v', 'e' in name1 and name2\n",
    "\n",
    "love_score = int(str(true) + str(love)) #combine the number of 'true' and 'love' to make a 2 digit number   \n",
    "print(f\"Your love score is {love_score}.\")\n",
    "\n",
    "# Path: ipynb/love_cal.ipynb\n",
    "\n"
   ]
  }
 ],
 "metadata": {
  "language_info": {
   "name": "python"
  },
  "orig_nbformat": 4
 },
 "nbformat": 4,
 "nbformat_minor": 2
}
