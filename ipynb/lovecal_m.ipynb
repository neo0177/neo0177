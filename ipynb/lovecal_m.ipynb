{
 "cells": [
  {
   "cell_type": "code",
   "execution_count": 32,
   "metadata": {},
   "outputs": [
    {
     "name": "stdout",
     "output_type": "stream",
     "text": [
      "<class 'str'>\n",
      "3\n",
      "<class 'str'>\n",
      "2\n",
      "<class 'str'>\n",
      "32\n"
     ]
    }
   ],
   "source": [
    "\n",
    "name1 = input(\"Enter your name: \\n\").lower()\n",
    "name2 = input(\"Enter your partner's name:\\n \").lower()\n",
    "# print(name1)\n",
    "# print(name2)\n",
    "\n",
    "\n",
    "#true in name 1 & 2\n",
    "t = name1.count('t') + name2.count('t')\n",
    "r = name1.count('r') + name2.count('r')\n",
    "u = name1.count('u') + name2.count('u')\n",
    "e = name1.count('e') + name2.count('e')\n",
    "true = str(t + r + u + e)\n",
    "print(type(true))\n",
    "print(true)\n",
    "\n",
    "#love in name 1 & 2\n",
    "l = name1.count('l') + name2.count('l')\n",
    "o = name1.count('o') + name2.count('o')\n",
    "v = name1.count('v') + name2.count('v')\n",
    "e = name1.count('e') + name2.count('e')\n",
    "love = str(l + o + v + e)\n",
    "print(type(love))\n",
    "print(love)\n",
    "\n",
    "#love score\n",
    "love_score = true + love\n",
    "print(type(love_score))\n",
    "print(love_score)\n",
    "\n",
    "\n"
   ]
  }
 ],
 "metadata": {
  "kernelspec": {
   "display_name": "Python 3",
   "language": "python",
   "name": "python3"
  },
  "language_info": {
   "codemirror_mode": {
    "name": "ipython",
    "version": 3
   },
   "file_extension": ".py",
   "mimetype": "text/x-python",
   "name": "python",
   "nbconvert_exporter": "python",
   "pygments_lexer": "ipython3",
   "version": "3.11.4"
  },
  "orig_nbformat": 4
 },
 "nbformat": 4,
 "nbformat_minor": 2
}
