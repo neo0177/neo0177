{
 "cells": [
  {
   "cell_type": "code",
   "execution_count": 1,
   "metadata": {},
   "outputs": [
    {
     "name": "stdout",
     "output_type": "stream",
     "text": [
      "rahul, Asif, Raju\n",
      "['rahul', ' Asif', ' Raju']\n",
      "3\n",
      " Raju\n",
      " Rajuis going to buy the meal today!\n",
      "\n"
     ]
    }
   ],
   "source": [
    "import random\n",
    "names = input(\"Enter names separated by commas: \")\n",
    "print(names)\n",
    "\n",
    "names = names.split(\",\")\n",
    "print(names)\n",
    "\n",
    "num_names = len(names)\n",
    "print(num_names)\n",
    "\n",
    "name_to_pay = random.choice(names)\n",
    "print(name_to_pay)\n",
    "\n",
    "print(name_to_pay + \"is going to buy the meal today!\\n\")\n",
    "\n",
    "\n",
    "\n"
   ]
  }
 ],
 "metadata": {
  "kernelspec": {
   "display_name": "Python 3",
   "language": "python",
   "name": "python3"
  },
  "language_info": {
   "codemirror_mode": {
    "name": "ipython",
    "version": 3
   },
   "file_extension": ".py",
   "mimetype": "text/x-python",
   "name": "python",
   "nbconvert_exporter": "python",
   "pygments_lexer": "ipython3",
   "version": "3.11.4"
  },
  "orig_nbformat": 4
 },
 "nbformat": 4,
 "nbformat_minor": 2
}
